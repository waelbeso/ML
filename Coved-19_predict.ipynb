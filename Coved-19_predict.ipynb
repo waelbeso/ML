{
 "cells": [
  {
   "cell_type": "code",
   "execution_count": 100,
   "id": "61385891",
   "metadata": {},
   "outputs": [],
   "source": [
    "\n",
    "import pandas as pd\n",
    "#from sklearn import model_selection\n",
    "from sklearn.linear_model import LogisticRegression\n",
    "import joblib\n",
    " \n",
    "# load the model from disk\n",
    "loaded_model = joblib.load('finalized_model.sav')\n"
   ]
  },
  {
   "cell_type": "code",
   "execution_count": 101,
   "id": "9e5b5d2c",
   "metadata": {},
   "outputs": [
    {
     "name": "stdout",
     "output_type": "stream",
     "text": [
      "34\n",
      "(322, 34)\n",
      "322\n",
      "(322,)\n",
      "1\n",
      "X=[1, 76, 2.075, 256.5, 2.585, 23, 41.5, 149, 70.5, 43.5, 288.5, 56.65, 3.6, 135.4, 229.5, 7.3, 3.12, 9.3, 26.9, 86.2, 29.8, 34.55, 222.5, 81.35, 13.1, 5.45, 0, 0.1, 5.95, 0.95, 0.45, 0, 0, 1], Predicted=0\n"
     ]
    }
   ],
   "source": [
    "\n",
    "# example of training a final classification model\n",
    "from sklearn.linear_model import LogisticRegression\n",
    "from sklearn.datasets import make_blobs\n",
    "\n",
    "# generate 2d classification dataset\n",
    "X, y = make_blobs(n_samples=322, centers=2, n_features=34,random_state=8, shuffle=True)\n",
    "\n",
    "\n",
    "loaded_model.fit(X, y)\n",
    "print(len(X[0]))\n",
    "print(X.shape)\n",
    "print(len(y))\n",
    "print(y.shape)\n",
    "# define one new instance\n",
    "Xnew = [[1,76,2.075,256.5,2.585,23,41.5,149,70.5,43.5,288.5,56.65,3.6,135.4,229.5,7.3,3.12,9.3,26.9,86.2,29.8,34.55,222.5,81.35,13.1,5.45,0,0.1,5.95,0.95,0.45,0,0,1]]\n",
    "# corect in 0\n",
    "# make a prediction\n",
    "print(len(Xnew))\n",
    "ynew = loaded_model.predict(Xnew)\n",
    "print(\"X=%s, Predicted=%s\" % (Xnew[0], ynew[0]))\n",
    "\n"
   ]
  },
  {
   "cell_type": "code",
   "execution_count": 102,
   "id": "ac2ca5e4",
   "metadata": {},
   "outputs": [
    {
     "name": "stdout",
     "output_type": "stream",
     "text": [
      "1\n",
      "X=[1, 68, 2.19, 30, 1.025, 110, 69, 112, 28.5, 58.5, 416, 371.4333333, 4.825, 136.45, 41.5, 6.133333333, 3.12, 10.26666667, 30.76666667, 98.6, 32.86666667, 33.33333333, 236, 89.2, 6.066666667, 4.233333333, 0, 0.5, 5.5, 0.366666667, 0.266666667, 0, 0.033333333, 0.5], Predicted=1\n"
     ]
    }
   ],
   "source": [
    "Xnew = [[1,68,2.19,30,1.025,110,69,112,28.5,58.5,416,371.4333333,4.825,136.45,41.5,6.133333333,3.12,10.26666667,30.76666667,98.6,32.86666667,33.33333333,236,89.2,6.066666667,4.233333333,0,0.5,5.5,0.366666667,0.266666667,0,0.033333333,0.5]]\n",
    "# corect in 1\n",
    "# make a prediction\n",
    "print(len(Xnew))\n",
    "ynew = loaded_model.predict(Xnew)\n",
    "print(\"X=%s, Predicted=%s\" % (Xnew[0], ynew[0]))"
   ]
  },
  {
   "cell_type": "code",
   "execution_count": null,
   "id": "fc00d8fb",
   "metadata": {},
   "outputs": [],
   "source": []
  },
  {
   "cell_type": "code",
   "execution_count": null,
   "id": "123699ad",
   "metadata": {},
   "outputs": [],
   "source": []
  }
 ],
 "metadata": {
  "kernelspec": {
   "display_name": "Python 3 (ipykernel)",
   "language": "python",
   "name": "python3"
  },
  "language_info": {
   "codemirror_mode": {
    "name": "ipython",
    "version": 3
   },
   "file_extension": ".py",
   "mimetype": "text/x-python",
   "name": "python",
   "nbconvert_exporter": "python",
   "pygments_lexer": "ipython3",
   "version": "3.8.2"
  }
 },
 "nbformat": 4,
 "nbformat_minor": 5
}
