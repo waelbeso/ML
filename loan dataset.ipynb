{
 "cells": [
  {
   "cell_type": "code",
   "execution_count": 58,
   "id": "09878c82",
   "metadata": {},
   "outputs": [
    {
     "name": "stdout",
     "output_type": "stream",
     "text": [
      "(4140, 15)\n",
      "dims: 15, samples: 4140\n",
      "target:  [ 1.  1.  1. ... -1. -1. -1.]\n"
     ]
    }
   ],
   "source": [
    "import pickle\n",
    "ofname = open('dataset_small.pkl.txt','rb') \n",
    "# x stores input data and y target values\n",
    "(x,y) = pickle.load(ofname, encoding=\"latin1\")\n",
    "print(x.shape)\n",
    "dims = x.shape[1]\n",
    "N = x.shape[0]\n",
    "print('dims: ' + str(dims)+', samples: '+ str(N))\n",
    "print (\"target: \", y)"
   ]
  },
  {
   "cell_type": "code",
   "execution_count": 59,
   "id": "58a758fe",
   "metadata": {},
   "outputs": [
    {
     "name": "stdout",
     "output_type": "stream",
     "text": [
      "Predicted value: -1.0 , real target: -1.0\n"
     ]
    }
   ],
   "source": [
    "from sklearn import neighbors\n",
    "from sklearn import datasets\n",
    "#Create an instance of K-nearest neighbor classifier\n",
    "knn = neighbors.KNeighborsClassifier(n_neighbors=11)\n",
    "#Train the classifier\n",
    "knn.fit(x,y)\n",
    "#Compute the prediction according to the model\n",
    "yhat = knn.predict(x)\n",
    "print('Predicted value: ' + str(yhat[-1]), ', real target: ' + str(y[-1]))\n"
   ]
  },
  {
   "cell_type": "code",
   "execution_count": 60,
   "id": "ec5bfe9b",
   "metadata": {},
   "outputs": [
    {
     "name": "stdout",
     "output_type": "stream",
     "text": [
      "83.16425120772946 %\n"
     ]
    }
   ],
   "source": [
    " print ( knn.score(x,y) * 100 , '%' )"
   ]
  },
  {
   "cell_type": "code",
   "execution_count": 66,
   "id": "4d330834",
   "metadata": {},
   "outputs": [
    {
     "data": {
      "image/png": "[encoded data removed]",
      "text/plain": [
       "<Figure size 432x432 with 1 Axes>"
      ]
     },
     "metadata": {},
     "output_type": "display_data"
    }
   ],
   "source": [
    "#%matplotlib inline\n",
    "import matplotlib.pyplot as plt\n",
    "import numpy as np\n",
    "plt.pie(np.c_[np.sum(np.where(y==1,1,0)),np.sum(np.where(y==-1,1,0))][0],\n",
    "        labels=['Not fully funded','Full amount'],\n",
    "        colors=['g','r'],\n",
    "        shadow=False,\n",
    "        autopct ='%.2f' )\n",
    "plt.gcf().set_size_inches((6,6))\n",
    "plt.savefig(\"pie.png\",dpi=300, bbox_inches='tight')"
   ]
  },
  {
   "cell_type": "code",
   "execution_count": 62,
   "id": "89c6c54d",
   "metadata": {},
   "outputs": [
    {
     "name": "stdout",
     "output_type": "stream",
     "text": [
      "TP: 3370 , FP: 690\n",
      "FN: 7 , TN: 73\n"
     ]
    }
   ],
   "source": [
    "yhat = knn.predict(x)\n",
    "TP = np.sum(np.logical_and(yhat==-1,y==-1))\n",
    "TN = np.sum(np.logical_and(yhat==1,y==1))\n",
    "FP = np.sum(np.logical_and(yhat==-1,y==1))\n",
    "FN = np.sum(np.logical_and(yhat==1,y==-1))\n",
    "print('TP: '+ str(TP), ', FP: '+ str(FP))\n",
    "print('FN: '+ str(FN), ', TN: '+ str(TN))"
   ]
  },
  {
   "cell_type": "code",
   "execution_count": 63,
   "id": "2469e53d",
   "metadata": {},
   "outputs": [
    {
     "data": {
      "text/plain": [
       "array([[3370,  690],\n",
       "       [   7,   73]])"
      ]
     },
     "execution_count": 63,
     "metadata": {},
     "output_type": "execute_result"
    }
   ],
   "source": [
    "from sklearn import metrics \n",
    "metrics.confusion_matrix(yhat, y)"
   ]
  },
  {
   "cell_type": "code",
   "execution_count": 64,
   "id": "0c14600f",
   "metadata": {},
   "outputs": [
    {
     "name": "stdout",
     "output_type": "stream",
     "text": [
      "classification accuracy: 1.0\n",
      "confusion matrix: \n",
      "[[3377    0]\n",
      " [   0  763]]\n",
      "classification report:               precision    recall  f1-score   support\n",
      "\n",
      "        -1.0       1.00      1.00      1.00      3377\n",
      "         1.0       1.00      1.00      1.00       763\n",
      "\n",
      "    accuracy                           1.00      4140\n",
      "   macro avg       1.00      1.00      1.00      4140\n",
      "weighted avg       1.00      1.00      1.00      4140\n",
      "\n"
     ]
    }
   ],
   "source": [
    "#True positives (TP): \n",
    "#When the classifier predicts a sample as positive and it really is positive.\n",
    "#False positives (FP): \n",
    "#When the classifier predicts a sample as positive but in fact it is negative.\n",
    "#True negatives (TN): \n",
    "#When the classifier predicts a sample as negative and it really is negative.\n",
    "#False negatives (FN): \n",
    "#When the classifier predicts a sample as negative but in fact it is positive.\n",
    "\n",
    "#Train a classifier using .fit()\n",
    "from sklearn import neighbors\n",
    "knn = neighbors.KNeighborsClassifier(n_neighbors=1)\n",
    "knn.fit(x,y)\n",
    "yhat=knn.predict(x)\n",
    "\n",
    "print(\"classification accuracy:\", metrics.accuracy_score(yhat, y))\n",
    "print(\"confusion matrix: \\n\" + str(metrics.confusion_matrix(yhat, y)))\n",
    "print(\"classification report:\", metrics.classification_report(yhat, y))\n"
   ]
  },
  {
   "cell_type": "code",
   "execution_count": 44,
   "id": "a263360f",
   "metadata": {},
   "outputs": [
    {
     "name": "stdout",
     "output_type": "stream",
     "text": [
      "Training shape: (2898, 15)  , training targets shape: (2898,)\n",
      "Testing shape: (1242, 15)  , testing targets shape: (1242,)\n"
     ]
    }
   ],
   "source": [
    "# Simulate a real case: Randomize and split data in two subsets PRC*100% for training and \n",
    "# the rest (1-PRC)*100% for testing\n",
    "import numpy as np\n",
    "perm = np.random.permutation(y.size)\n",
    "PRC = 0.7\n",
    "split_point = int(np.ceil(y.shape[0]*PRC))\n",
    "\n",
    "X_train = x[perm[:split_point].ravel(),:]\n",
    "y_train = y[perm[:split_point].ravel()]\n",
    "\n",
    "X_test = x[perm[split_point:].ravel(),:]\n",
    "y_test = y[perm[split_point:].ravel()]\n",
    "\n",
    "print('Training shape: ' + str(X_train.shape), ' , training targets shape: '+str(y_train.shape))\n",
    "print('Testing shape: ' + str(X_test.shape), ' , testing targets shape: '+str(y_test.shape))"
   ]
  },
  {
   "cell_type": "code",
   "execution_count": 45,
   "id": "fcd81bb0",
   "metadata": {},
   "outputs": [
    {
     "name": "stdout",
     "output_type": "stream",
     "text": [
      "\n",
      "TRAINING STATS:\n",
      "classification accuracy: 1.0\n",
      "confusion matrix: \n",
      "[[2350    0]\n",
      " [   0  548]]\n"
     ]
    }
   ],
   "source": [
    "#Train a classifier on training data\n",
    "from sklearn import neighbors\n",
    "knn = neighbors.KNeighborsClassifier(n_neighbors=1)\n",
    "knn.fit(X_train,y_train)\n",
    "\n",
    "#Check on the training set and visualize performance\n",
    "yhat=knn.predict(X_train)\n",
    "\n",
    "from sklearn import metrics\n",
    "print(\"\\nTRAINING STATS:\")\n",
    "print(\"classification accuracy:\", metrics.accuracy_score(yhat, y_train))\n",
    "print(\"confusion matrix: \\n\"+ str(metrics.confusion_matrix(y_train, yhat)))"
   ]
  },
  {
   "cell_type": "code",
   "execution_count": 48,
   "id": "de907f46",
   "metadata": {},
   "outputs": [
    {
     "name": "stdout",
     "output_type": "stream",
     "text": [
      "TESTING STATS:\n",
      "classification accuracy: 0.748792270531401\n",
      "confusion matrix: \n",
      "[[866 151]\n",
      " [161  64]]\n"
     ]
    }
   ],
   "source": [
    "#Check on the test set\n",
    "yhat=knn.predict(X_test)\n",
    "print(\"TESTING STATS:\")\n",
    "print(\"classification accuracy:\", metrics.accuracy_score(yhat, y_test))\n",
    "print(\"confusion matrix: \\n\"+ str(metrics.confusion_matrix(yhat,y_test)))"
   ]
  },
  {
   "cell_type": "code",
   "execution_count": 49,
   "id": "6ba69a2e",
   "metadata": {},
   "outputs": [
    {
     "name": "stdout",
     "output_type": "stream",
     "text": [
      "Mean expected error: 0.7577294685990339\n"
     ]
    }
   ],
   "source": [
    "#The splitting can be done using the tools provided by sklearn:\n",
    "from sklearn.model_selection import train_test_split\n",
    "from sklearn import neighbors\n",
    "from sklearn import metrics\n",
    "\n",
    "PRC = 0.3\n",
    "acc = np.zeros((10,))\n",
    "for i in range(10):\n",
    "    X_train, X_test, y_train, y_test = train_test_split(x, y, test_size=PRC)\n",
    "    knn = neighbors.KNeighborsClassifier(n_neighbors=1)\n",
    "    knn.fit(X_train,y_train)\n",
    "    yhat = knn.predict(X_test)\n",
    "    acc[i] = metrics.accuracy_score(yhat, y_test)\n",
    "acc.shape=(1,10)\n",
    "print(\"Mean expected error: \"+str(np.mean(acc[0])))"
   ]
  },
  {
   "cell_type": "code",
   "execution_count": 52,
   "id": "7664885a",
   "metadata": {},
   "outputs": [
    {
     "data": {
      "image/png": "[encoded data removed]",
      "text/plain": [
       "<Figure size 432x288 with 1 Axes>"
      ]
     },
     "metadata": {
      "needs_background": "light"
     },
     "output_type": "display_data"
    }
   ],
   "source": [
    "#The splitting can be done using the tools provided by sklearn:\n",
    "from sklearn import tree\n",
    "from sklearn import svm\n",
    "\n",
    "PRC = 0.1\n",
    "acc_r=np.zeros((10,4))\n",
    "for i in range(10):\n",
    "    X_train, X_test, y_train, y_test = train_test_split(x, y, test_size=PRC)\n",
    "    nn1 = neighbors.KNeighborsClassifier(n_neighbors=1)\n",
    "    nn3 = neighbors.KNeighborsClassifier(n_neighbors=3)\n",
    "    svc = svm.SVC()\n",
    "    dt = tree.DecisionTreeClassifier()\n",
    "    \n",
    "    nn1.fit(X_train,y_train)\n",
    "    nn3.fit(X_train,y_train)\n",
    "    svc.fit(X_train,y_train)\n",
    "    dt.fit(X_train,y_train)\n",
    "    \n",
    "    yhat_nn1=nn1.predict(X_test)\n",
    "    yhat_nn3=nn3.predict(X_test)\n",
    "    yhat_svc=svc.predict(X_test)\n",
    "    yhat_dt=dt.predict(X_test)\n",
    "    \n",
    "    acc_r[i][0] = metrics.accuracy_score(yhat_nn1, y_test)\n",
    "    acc_r[i][1] = metrics.accuracy_score(yhat_nn3, y_test)\n",
    "    acc_r[i][2] = metrics.accuracy_score(yhat_svc, y_test)\n",
    "    acc_r[i][3] = metrics.accuracy_score(yhat_dt, y_test)\n",
    "\n",
    "\n",
    "plt.boxplot(acc_r);\n",
    "for i in range(4):\n",
    "    xderiv = (i+1)*np.ones(acc_r[:,i].shape)+(np.random.rand(10,)-0.5)*0.1\n",
    "    plt.plot(xderiv,acc_r[:,i],'ro',alpha=0.3)\n",
    "    \n",
    "ax = plt.gca()\n",
    "ax.set_xticklabels(['1-NN','3-NN','SVM','Decission Tree'])\n",
    "plt.ylabel('Accuracy')\n",
    "plt.savefig(\"error_ms_1.png\",dpi=300, bbox_inches='tight')"
   ]
  },
  {
   "cell_type": "code",
   "execution_count": 54,
   "id": "12156649",
   "metadata": {},
   "outputs": [
    {
     "name": "stdout",
     "output_type": "stream",
     "text": [
      "Mean accuracy: [0.82536232 0.8263285  0.83188406 0.83405797 0.83502415 0.83236715\n",
      " 0.82826087 0.82512077 0.82270531 0.81835749 0.8147343  0.80724638\n",
      " 0.80289855 0.80120773 0.79758454 0.78550725 0.78599034 0.78405797]\n",
      "Selected model index: 4\n",
      "Complexity: 6\n"
     ]
    },
    {
     "data": {
      "image/png": "[encoded data removed]",
      "text/plain": [
       "<Figure size 864x360 with 1 Axes>"
      ]
     },
     "metadata": {
      "needs_background": "light"
     },
     "output_type": "display_data"
    }
   ],
   "source": [
    "%reset -f\n",
    "%matplotlib inline\n",
    "\n",
    "import numpy as np\n",
    "import matplotlib.pyplot as plt\n",
    "from sklearn import metrics\n",
    "from sklearn import tree\n",
    "from sklearn.model_selection import KFold\n",
    "import pickle\n",
    "\n",
    "ofname = open('dataset_small.pkl.txt','rb') \n",
    "(X,y) = pickle.load(ofname, encoding=\"latin1\")\n",
    "\n",
    "#Create a 10-fold cross validation set\n",
    "kf = KFold(n_splits=10, shuffle=True, random_state=0)\n",
    "      \n",
    "#Search the parameter among the following\n",
    "C=np.arange(2,20,)\n",
    "\n",
    "acc = np.zeros((10,18))\n",
    "i=0\n",
    "for train_index, val_index in kf.split(y):\n",
    "    X_train, X_val = X[train_index], X[val_index]\n",
    "    y_train, y_val = y[train_index], y[val_index]\n",
    "    j=0\n",
    "    for c in C:\n",
    "        dt = tree.DecisionTreeClassifier(min_samples_leaf=1, max_depth=c)\n",
    "        dt.fit(X_train,y_train)\n",
    "        yhat = dt.predict(X_val)\n",
    "        acc[i][j] = metrics.accuracy_score(yhat, y_val)\n",
    "        j=j+1\n",
    "    i=i+1\n",
    "    \n",
    "plt.boxplot(acc);\n",
    "for i in range(18):\n",
    "    xderiv = (i+1)*np.ones(acc[:,i].shape)+(np.random.rand(10,)-0.5)*0.1\n",
    "    plt.plot(xderiv,acc[:,i],'ro',alpha=0.3)\n",
    "\n",
    "print('Mean accuracy: ' + str(np.mean(acc,axis = 0)))\n",
    "print('Selected model index: ' + str(np.argmax(np.mean(acc,axis = 0))))\n",
    "print('Complexity: ' + str(C[np.argmax(np.mean(acc,axis = 0))]))\n",
    "plt.ylim((0.7,1.))\n",
    "fig = plt.gcf()\n",
    "fig.set_size_inches(12,5)\n",
    "plt.xlabel('Complexity')\n",
    "plt.ylabel('Accuracy')\n",
    "plt.savefig(\"model_selection.png\",dpi=300, bbox_inches='tight')"
   ]
  },
  {
   "cell_type": "code",
   "execution_count": 55,
   "id": "5412d75a",
   "metadata": {},
   "outputs": [
    {
     "name": "stdout",
     "output_type": "stream",
     "text": [
      "Mean accuracy: [0.8254832  0.83031158 0.83091854 0.83393696 0.83303516 0.83182761\n",
      " 0.82759892 0.82306901 0.81943909 0.81642704 0.80826903 0.80102282\n",
      " 0.79649474 0.79558749 0.79437812 0.78502439 0.78080024 0.77898482]\n",
      "Selected model index: 3\n",
      "Complexity: 5\n",
      "Test accuracy: 0.8272946859903382\n"
     ]
    },
    {
     "data": {
      "image/png": "[encoded data removed]",
      "text/plain": [
       "<Figure size 864x360 with 1 Axes>"
      ]
     },
     "metadata": {
      "needs_background": "light"
     },
     "output_type": "display_data"
    }
   ],
   "source": [
    "%reset -f\n",
    "%matplotlib inline\n",
    "import numpy as np\n",
    "import matplotlib.pyplot as plt\n",
    "from sklearn import metrics\n",
    "from sklearn import tree\n",
    "from sklearn.model_selection import train_test_split\n",
    "from sklearn.model_selection import KFold\n",
    "\n",
    "import pickle\n",
    "\n",
    "ofname = open('dataset_small.pkl.txt','rb') \n",
    "(X,y) = pickle.load(ofname, encoding='latin1')\n",
    "\n",
    "#Train_test split\n",
    "X_train, X_test, y_train, y_test = train_test_split(X, y, test_size=0.20, random_state=42)\n",
    "\n",
    "#Create a 10-fold cross validation set\n",
    "kf=KFold( n_splits=10, shuffle=True, random_state=0)     \n",
    "#Search the parameter among the following\n",
    "C=np.arange(2,20,)\n",
    "acc = np.zeros((10,18))\n",
    "i=0\n",
    "for train_index, val_index in kf.split(X_train):\n",
    "    X_t, X_val = X_train[train_index], X_train[val_index]\n",
    "    y_t, y_val = y_train[train_index], y_train[val_index]\n",
    "    j=0\n",
    "    for c in C:\n",
    "        dt = tree.DecisionTreeClassifier(min_samples_leaf=1, max_depth=c)\n",
    "        dt.fit(X_t,y_t)\n",
    "        yhat = dt.predict(X_val)\n",
    "        acc[i][j] = metrics.accuracy_score(yhat, y_val)\n",
    "        j=j+1\n",
    "    i=i+1\n",
    "\n",
    "print('Mean accuracy: ' + str(np.mean(acc,axis = 0)))\n",
    "print('Selected model index: ' + str(np.argmax(np.mean(acc,axis = 0))))\n",
    "print('Complexity: ' + str(C[np.argmax(np.mean(acc,axis = 0))]))\n",
    "\n",
    "\n",
    "#Train the model with the complete training set with the selected complexity\n",
    "dt = tree.DecisionTreeClassifier(min_samples_leaf=1, max_depth=C[np.argmax(np.mean(acc,axis = 0))])\n",
    "dt.fit(X_train,y_train)\n",
    "#Test the model with the test set \n",
    "yhat = dt.predict(X_test)\n",
    "print('Test accuracy: ' + str(metrics.accuracy_score(yhat, y_test)))\n",
    "\n",
    "#Train the model for handling to the client\n",
    "dt = tree.DecisionTreeClassifier(min_samples_leaf=1, max_depth=C[np.argmax(np.mean(acc,axis = 0))])\n",
    "dt.fit(X,y)\n",
    "\n",
    "plt.boxplot(acc);\n",
    "for i in range(18):\n",
    "    xderiv = (i+1)*np.ones(acc[:,i].shape)+(np.random.rand(10,)-0.5)*0.1\n",
    "    plt.plot(xderiv,acc[:,i],'ro',alpha=0.3)\n",
    "\n",
    "\n",
    "plt.ylim((0.7,1.))\n",
    "fig = plt.gcf()\n",
    "fig.set_size_inches(12,5)"
   ]
  },
  {
   "cell_type": "code",
   "execution_count": 67,
   "id": "59827563",
   "metadata": {},
   "outputs": [
    {
     "name": "stdout",
     "output_type": "stream",
     "text": [
      "0.856280193236715\n",
      "[[3372  590]\n",
      " [   5  173]]\n"
     ]
    }
   ],
   "source": [
    "%reset -f\n",
    "import numpy as np\n",
    "from sklearn.preprocessing import StandardScaler\n",
    "from sklearn import svm\n",
    "from sklearn import linear_model\n",
    "from sklearn.model_selection import KFold,GridSearchCV\n",
    "from sklearn import metrics\n",
    "\n",
    "import pickle\n",
    "ofname = open('dataset_small.pkl.txt','rb') \n",
    "(X,y) = pickle.load(ofname, encoding='latin1')\n",
    "\n",
    "parameters = {'C':[1e4,1e5,1e6],'gamma':[1e-5,1e-4,1e-3]}\n",
    "\n",
    "N_folds = 5\n",
    "\n",
    "kf=KFold( n_splits=N_folds,  shuffle=True, random_state=0)\n",
    "\n",
    "acc = np.zeros((N_folds,))\n",
    "i=0\n",
    "#We will build the predicted y from the partial predictions on the test of each of the folds\n",
    "yhat = y.copy()\n",
    "for train_index, test_index in kf.split(X):\n",
    "    X_train, X_test = X[train_index,:], X[test_index,:]\n",
    "    y_train, y_test = y[train_index], y[test_index]\n",
    "    scaler = StandardScaler()\n",
    "    X_train = scaler.fit_transform(X_train)\n",
    "    clf = svm.SVC(kernel='rbf')\n",
    "    clf = GridSearchCV(clf, parameters, cv = 3) #This line does a cross-validation on the \n",
    "    clf.fit(X_train,y_train.ravel())\n",
    "    X_test = scaler.transform(X_test)\n",
    "    yhat[test_index] = clf.predict(X_test)\n",
    "    \n",
    "print(metrics.accuracy_score(yhat, y))\n",
    "print(metrics.confusion_matrix(yhat, y))"
   ]
  },
  {
   "cell_type": "code",
   "execution_count": null,
   "id": "2504399a",
   "metadata": {},
   "outputs": [],
   "source": []
  }
 ],
 "metadata": {
  "kernelspec": {
   "display_name": "Python 3 (ipykernel)",
   "language": "python",
   "name": "python3"
  },
  "language_info": {
   "codemirror_mode": {
    "name": "ipython",
    "version": 3
   },
   "file_extension": ".py",
   "mimetype": "text/x-python",
   "name": "python",
   "nbconvert_exporter": "python",
   "pygments_lexer": "ipython3",
   "version": "3.8.2"
  }
 },
 "nbformat": 4,
 "nbformat_minor": 5
}
