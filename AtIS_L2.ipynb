{
 "cells": [
  {
   "cell_type": "code",
   "execution_count": 1,
   "id": "7bb47c61",
   "metadata": {},
   "outputs": [
    {
     "name": "stdout",
     "output_type": "stream",
     "text": [
      "Python: 3.8.2 (default, Dec 21 2020, 15:06:04) \n",
      "[Clang 12.0.0 (clang-1200.0.32.29)]\n",
      "scipy: 1.7.2\n",
      "numpy: 1.21.4\n",
      "matplotlib: 3.4.3\n",
      "pandas: 1.3.4\n",
      "sklearn: 1.0.1\n"
     ]
    }
   ],
   "source": [
    "# Check the versions of libraries\n",
    "# Python version\n",
    "import sys\n",
    "print('Python: {}'.format(sys.version))\n",
    "# scipy\n",
    "import scipy\n",
    "print('scipy: {}'.format(scipy.__version__))\n",
    "# numpy\n",
    "import numpy\n",
    "print('numpy: {}'.format(numpy.__version__))\n",
    "# matplotlib\n",
    "import matplotlib\n",
    "print('matplotlib: {}'.format(matplotlib.__version__))\n",
    "# pandas\n",
    "import pandas\n",
    "print('pandas: {}'.format(pandas.__version__))\n",
    "# scikit-learn\n",
    "import sklearn\n",
    "print('sklearn: {}'.format(sklearn.__version__))"
   ]
  },
  {
   "cell_type": "code",
   "execution_count": 5,
   "id": "22ac2c0c",
   "metadata": {},
   "outputs": [],
   "source": [
    "# Load libraries\n",
    "from pandas import read_csv\n",
    "from pandas.plotting import scatter_matrix\n",
    "from matplotlib import pyplot\n",
    "from sklearn.model_selection import train_test_split\n",
    "from sklearn.model_selection import cross_val_score\n",
    "from sklearn.model_selection import StratifiedKFold\n",
    "from sklearn.metrics import classification_report\n",
    "from sklearn.metrics import confusion_matrix\n",
    "from sklearn.metrics import accuracy_score\n",
    "from sklearn.linear_model import LogisticRegression\n",
    "from sklearn.tree import DecisionTreeClassifier\n",
    "from sklearn.neighbors import KNeighborsClassifier\n",
    "from sklearn.discriminant_analysis import LinearDiscriminantAnalysis\n",
    "from sklearn.naive_bayes import GaussianNB\n",
    "from sklearn.svm import SVC\n",
    "\n",
    "#Loaddataset\n",
    "url= \"https://raw.githubusercontent.com/jbrownlee/Datasets/master/iris.csv\"\n",
    "names=['sepal-length','sepal-width','petal-length', 'petal-width', 'class']\n",
    "dataset=read_csv(url,names=names)"
   ]
  },
  {
   "cell_type": "code",
   "execution_count": 67,
   "id": "8604f1af",
   "metadata": {},
   "outputs": [
    {
     "name": "stdout",
     "output_type": "stream",
     "text": [
      "(150, 5)\n"
     ]
    }
   ],
   "source": [
    "# shape\n",
    "print(dataset.shape)"
   ]
  },
  {
   "cell_type": "code",
   "execution_count": 72,
   "id": "e9c530f2",
   "metadata": {},
   "outputs": [
    {
     "name": "stdout",
     "output_type": "stream",
     "text": [
      "    sepal-length  sepal-width  petal-length  petal-width            class\n",
      "0            5.1          3.5           1.4          0.2      Iris-setosa\n",
      "1            4.9          3.0           1.4          0.2      Iris-setosa\n",
      "2            4.7          3.2           1.3          0.2      Iris-setosa\n",
      "3            4.6          3.1           1.5          0.2      Iris-setosa\n",
      "4            5.0          3.6           1.4          0.2      Iris-setosa\n",
      "5            5.4          3.9           1.7          0.4      Iris-setosa\n",
      "6            4.6          3.4           1.4          0.3      Iris-setosa\n",
      "7            5.0          3.4           1.5          0.2      Iris-setosa\n",
      "8            4.4          2.9           1.4          0.2      Iris-setosa\n",
      "9            4.9          3.1           1.5          0.1      Iris-setosa\n",
      "10           5.4          3.7           1.5          0.2      Iris-setosa\n",
      "11           4.8          3.4           1.6          0.2      Iris-setosa\n",
      "12           4.8          3.0           1.4          0.1      Iris-setosa\n",
      "13           4.3          3.0           1.1          0.1      Iris-setosa\n",
      "14           5.8          4.0           1.2          0.2      Iris-setosa\n",
      "15           5.7          4.4           1.5          0.4      Iris-setosa\n",
      "16           5.4          3.9           1.3          0.4      Iris-setosa\n",
      "17           5.1          3.5           1.4          0.3      Iris-setosa\n",
      "18           5.7          3.8           1.7          0.3      Iris-setosa\n",
      "19           5.1          3.8           1.5          0.3      Iris-setosa\n",
      "20           5.4          3.4           1.7          0.2      Iris-setosa\n",
      "21           5.1          3.7           1.5          0.4      Iris-setosa\n",
      "22           4.6          3.6           1.0          0.2      Iris-setosa\n",
      "23           5.1          3.3           1.7          0.5      Iris-setosa\n",
      "24           4.8          3.4           1.9          0.2      Iris-setosa\n",
      "25           5.0          3.0           1.6          0.2      Iris-setosa\n",
      "26           5.0          3.4           1.6          0.4      Iris-setosa\n",
      "27           5.2          3.5           1.5          0.2      Iris-setosa\n",
      "28           5.2          3.4           1.4          0.2      Iris-setosa\n",
      "29           4.7          3.2           1.6          0.2      Iris-setosa\n",
      "30           4.8          3.1           1.6          0.2      Iris-setosa\n",
      "31           5.4          3.4           1.5          0.4      Iris-setosa\n",
      "32           5.2          4.1           1.5          0.1      Iris-setosa\n",
      "33           5.5          4.2           1.4          0.2      Iris-setosa\n",
      "34           4.9          3.1           1.5          0.1      Iris-setosa\n",
      "35           5.0          3.2           1.2          0.2      Iris-setosa\n",
      "36           5.5          3.5           1.3          0.2      Iris-setosa\n",
      "37           4.9          3.1           1.5          0.1      Iris-setosa\n",
      "38           4.4          3.0           1.3          0.2      Iris-setosa\n",
      "39           5.1          3.4           1.5          0.2      Iris-setosa\n",
      "40           5.0          3.5           1.3          0.3      Iris-setosa\n",
      "41           4.5          2.3           1.3          0.3      Iris-setosa\n",
      "42           4.4          3.2           1.3          0.2      Iris-setosa\n",
      "43           5.0          3.5           1.6          0.6      Iris-setosa\n",
      "44           5.1          3.8           1.9          0.4      Iris-setosa\n",
      "45           4.8          3.0           1.4          0.3      Iris-setosa\n",
      "46           5.1          3.8           1.6          0.2      Iris-setosa\n",
      "47           4.6          3.2           1.4          0.2      Iris-setosa\n",
      "48           5.3          3.7           1.5          0.2      Iris-setosa\n",
      "49           5.0          3.3           1.4          0.2      Iris-setosa\n",
      "50           7.0          3.2           4.7          1.4  Iris-versicolor\n",
      "51           6.4          3.2           4.5          1.5  Iris-versicolor\n",
      "52           6.9          3.1           4.9          1.5  Iris-versicolor\n",
      "53           5.5          2.3           4.0          1.3  Iris-versicolor\n",
      "54           6.5          2.8           4.6          1.5  Iris-versicolor\n",
      "55           5.7          2.8           4.5          1.3  Iris-versicolor\n",
      "56           6.3          3.3           4.7          1.6  Iris-versicolor\n",
      "57           4.9          2.4           3.3          1.0  Iris-versicolor\n",
      "58           6.6          2.9           4.6          1.3  Iris-versicolor\n",
      "59           5.2          2.7           3.9          1.4  Iris-versicolor\n"
     ]
    }
   ],
   "source": [
    "#head\n",
    "print(dataset.head(60))"
   ]
  },
  {
   "cell_type": "code",
   "execution_count": 19,
   "id": "e879ed05",
   "metadata": {},
   "outputs": [
    {
     "name": "stdout",
     "output_type": "stream",
     "text": [
      "       sepal-length  sepal-width  petal-length  petal-width\n",
      "count    150.000000   150.000000    150.000000   150.000000\n",
      "mean       5.843333     3.054000      3.758667     1.198667\n",
      "std        0.828066     0.433594      1.764420     0.763161\n",
      "min        4.300000     2.000000      1.000000     0.100000\n",
      "25%        5.100000     2.800000      1.600000     0.300000\n",
      "50%        5.800000     3.000000      4.350000     1.300000\n",
      "75%        6.400000     3.300000      5.100000     1.800000\n",
      "max        7.900000     4.400000      6.900000     2.500000\n"
     ]
    }
   ],
   "source": [
    "# descriptions\n",
    "print(dataset.describe())"
   ]
  },
  {
   "cell_type": "code",
   "execution_count": 20,
   "id": "503ef732",
   "metadata": {},
   "outputs": [
    {
     "name": "stdout",
     "output_type": "stream",
     "text": [
      "class\n",
      "Iris-setosa        50\n",
      "Iris-versicolor    50\n",
      "Iris-virginica     50\n",
      "dtype: int64\n"
     ]
    }
   ],
   "source": [
    "# class distribution\n",
    "print(dataset.groupby('class').size())"
   ]
  },
  {
   "cell_type": "code",
   "execution_count": 34,
   "id": "d8e41406",
   "metadata": {},
   "outputs": [
    {
     "data": {
      "image/png": "[encoded data removed]",
      "text/plain": [
       "<Figure size 432x288 with 4 Axes>"
      ]
     },
     "metadata": {
      "needs_background": "light"
     },
     "output_type": "display_data"
    }
   ],
   "source": [
    "\n",
    "# box and whisker plots\n",
    "dataset.plot(kind='box', subplots=True, layout=(2,2), sharex=False, sharey=False)\n",
    "pyplot.show()"
   ]
  },
  {
   "cell_type": "code",
   "execution_count": 33,
   "id": "c870580b",
   "metadata": {},
   "outputs": [
    {
     "data": {
      "image/png": "[encoded data removed]",
      "text/plain": [
       "<Figure size 432x288 with 4 Axes>"
      ]
     },
     "metadata": {
      "needs_background": "light"
     },
     "output_type": "display_data"
    }
   ],
   "source": [
    "dataset.hist()\n",
    "pyplot.show()"
   ]
  },
  {
   "cell_type": "code",
   "execution_count": 40,
   "id": "da795e61",
   "metadata": {},
   "outputs": [
    {
     "data": {
      "image/png": "[encoded data removed]",
      "text/plain": [
       "<Figure size 432x288 with 4 Axes>"
      ]
     },
     "metadata": {
      "needs_background": "light"
     },
     "output_type": "display_data"
    }
   ],
   "source": [
    "# scatter plot matrix\n",
    "'''\n",
    "A scatter plot matrix is a grid \n",
    "(or matrix) of scatter plots used to \n",
    "visualize bivariate relationships between \n",
    "combinations of variables. Each scatter plot \n",
    "in the matrix visualizes the relationship \n",
    "between a pair of variables, allowing many \n",
    "relationships to be explored in one chart.\n",
    "'''\n",
    "#scatter_matrix(dataset)\n",
    "#pyplot.show()\n",
    "\n",
    "scatter_matrix(dataset.iloc[:, 0:2] )\n",
    "pyplot.show()"
   ]
  },
  {
   "cell_type": "code",
   "execution_count": 89,
   "id": "3abc0258",
   "metadata": {},
   "outputs": [
    {
     "name": "stdout",
     "output_type": "stream",
     "text": [
      "X: (150, 4)\n",
      "Y: (150,)\n",
      "X_train: (120, 4)\n",
      "X_validation (30, 4)\n",
      "Y_train (120,)\n",
      "Y_validation (30,)\n"
     ]
    }
   ],
   "source": [
    "#Split-out validation dataset\n",
    "array = dataset.values\n",
    "X = array[:,0:4]\n",
    "print('X:',X.shape)\n",
    "#print(X.view())\n",
    "y = array[:,4]\n",
    "print('Y:',y.shape)\n",
    "#print(y.view())\n",
    "\n",
    "X_train, X_validation, Y_train, Y_validation = train_test_split(X, y, test_size=0.20, random_state=1)\n",
    "\n",
    "print('X_train:',     X_train.shape)\n",
    "print('X_validation', X_validation.shape)\n",
    "print('Y_train',      Y_train.shape)\n",
    "print('Y_validation', Y_validation.shape)"
   ]
  },
  {
   "cell_type": "code",
   "execution_count": 90,
   "id": "59d8b5d5",
   "metadata": {},
   "outputs": [
    {
     "name": "stdout",
     "output_type": "stream",
     "text": [
      "algo    mean       std   \n",
      "LR:   0.941667    (0.065085)\n",
      "LDA:   0.975000    (0.038188)\n",
      "KNN:   0.958333    (0.041667)\n",
      "CART:   0.933333    (0.050000)\n",
      "NB:   0.950000    (0.055277)\n",
      "SVM:   0.983333    (0.033333)\n"
     ]
    }
   ],
   "source": [
    "# Spot Check Algorithms\n",
    "models = []\n",
    "models.append(('LR',   LogisticRegression(solver='liblinear', multi_class='ovr')))\n",
    "models.append(('LDA',  LinearDiscriminantAnalysis()))\n",
    "models.append(('KNN',  KNeighborsClassifier()))\n",
    "models.append(('CART', DecisionTreeClassifier()))\n",
    "models.append(('NB',   GaussianNB()))\n",
    "models.append(('SVM',  SVC(gamma='auto')))\n",
    "# evaluate each model in turn\n",
    "results = []\n",
    "names   = []\n",
    "print('algo    mean       std   ')\n",
    "for name, model in models:\n",
    "    #k-fold cross-validation\n",
    "    #This will split our dataset into 10 parts, train on 9 and test on 1 \n",
    "    #and repeat for all combinations of train-test splits.\n",
    "    kfold = StratifiedKFold(n_splits=10, random_state=1, shuffle=True)\n",
    "    \n",
    "    cv_results = cross_val_score(model, X_train, Y_train, cv=kfold, scoring='accuracy')\n",
    "    \n",
    "    results.append(cv_results)\n",
    "    \n",
    "    names.append(name)\n",
    "    \n",
    "    print('%s:   %f    (%f)' % (name, cv_results.mean(), cv_results.std()))\n"
   ]
  },
  {
   "cell_type": "code",
   "execution_count": 91,
   "id": "d579970b",
   "metadata": {},
   "outputs": [
    {
     "data": {
      "image/png": "[encoded data removed]",
      "text/plain": [
       "<Figure size 432x288 with 1 Axes>"
      ]
     },
     "metadata": {
      "needs_background": "light"
     },
     "output_type": "display_data"
    }
   ],
   "source": [
    "#Compare Algorithms \n",
    "pyplot.boxplot(results, labels=names) \n",
    "pyplot.title('Algorithm Comparison') \n",
    "pyplot.show()"
   ]
  },
  {
   "cell_type": "code",
   "execution_count": 92,
   "id": "ee4cd4ab",
   "metadata": {},
   "outputs": [
    {
     "name": "stdout",
     "output_type": "stream",
     "text": [
      "algo    mean       std   \n",
      "LR:   0.941667    (0.065085)\n",
      "LDA:   0.975000    (0.038188)\n",
      "KNN:   0.958333    (0.041667)\n",
      "CART:   0.950000    (0.055277)\n",
      "NB:   0.950000    (0.055277)\n",
      "SVM:   0.983333    (0.033333)\n"
     ]
    }
   ],
   "source": [
    "# Spot Check Algorithms\n",
    "models = []\n",
    "LR   = LogisticRegression(solver = 'liblinear', multi_class='ovr')\n",
    "LDA  = LinearDiscriminantAnalysis()\n",
    "KNN  = KNeighborsClassifier()\n",
    "CART = DecisionTreeClassifier()\n",
    "NB   = GaussianNB()\n",
    "SVM  = SVC(gamma='auto')\n",
    "# evaluate each model in turn\n",
    "results = []\n",
    "names   = ['LR','LDA','KNN','CART','NB','SVM']\n",
    "\n",
    "print('algo    mean       std   ')\n",
    "\n",
    "#k-fold cross-validation\n",
    "#This will split our dataset into 10 parts, train on 9 and test on 1 \n",
    "#and repeat for all combinations of train-test splits.\n",
    "\n",
    "kfold = StratifiedKFold(n_splits=10, random_state=1, shuffle=True)\n",
    "\n",
    "#LogisticRegression(LR)\n",
    "cv_results = cross_val_score(LR, X_train, Y_train, cv=kfold, scoring='accuracy')\n",
    "results.append(cv_results)\n",
    "print('%s:   %f    (%f)' % ('LR', cv_results.mean(), cv_results.std()))\n",
    "\n",
    "#Linear Discriminant Analysis (LDA)\n",
    "cv_results = cross_val_score(LDA, X_train, Y_train, cv=kfold, scoring='accuracy')\n",
    "results.append(cv_results)\n",
    "print('%s:   %f    (%f)' % ('LDA', cv_results.mean(), cv_results.std()))\n",
    "\n",
    "#K-Nearest Neighbors (KNN)\n",
    "cv_results = cross_val_score(KNN, X_train, Y_train, cv=kfold, scoring='accuracy')\n",
    "results.append(cv_results)\n",
    "print('%s:   %f    (%f)' % ('KNN', cv_results.mean(), cv_results.std()))\n",
    "\n",
    "#Classification and Regression Trees (CART)\n",
    "cv_results = cross_val_score(CART, X_train, Y_train, cv=kfold, scoring='accuracy')\n",
    "results.append(cv_results)\n",
    "print('%s:   %f    (%f)' % ('CART', cv_results.mean(), cv_results.std()))\n",
    "\n",
    "#Gaussian Naive Bayes (NB)\n",
    "cv_results = cross_val_score(NB, X_train, Y_train, cv=kfold, scoring='accuracy')\n",
    "results.append(cv_results)\n",
    "print('%s:   %f    (%f)' % ('NB', cv_results.mean(), cv_results.std()))\n",
    "\n",
    "#Support Vector Machines (SVM)\n",
    "cv_results = cross_val_score(SVM, X_train, Y_train, cv=kfold, scoring='accuracy')\n",
    "results.append(cv_results)\n",
    "print('%s:   %f    (%f)' % ('SVM', cv_results.mean(), cv_results.std()))\n",
    "\n"
   ]
  },
  {
   "cell_type": "code",
   "execution_count": 93,
   "id": "2001ffe8",
   "metadata": {},
   "outputs": [
    {
     "data": {
      "image/png": "[encoded data removed]",
      "text/plain": [
       "<Figure size 432x288 with 1 Axes>"
      ]
     },
     "metadata": {
      "needs_background": "light"
     },
     "output_type": "display_data"
    }
   ],
   "source": [
    "#Compare Algorithms \n",
    "pyplot.boxplot(results, labels=names) \n",
    "pyplot.title('Algorithm Comparison') \n",
    "pyplot.show()"
   ]
  },
  {
   "cell_type": "code",
   "execution_count": 155,
   "id": "902d1703",
   "metadata": {},
   "outputs": [
    {
     "name": "stdout",
     "output_type": "stream",
     "text": [
      "X_train: (120, 4)\n",
      "X_validation (30, 4)\n",
      "Y_train (120,)\n",
      "Y_validation (30,)\n",
      "predictions (30,)\n",
      "0.9666666666666667\n",
      "[[11  0  0]\n",
      " [ 0 12  1]\n",
      " [ 0  0  6]]\n",
      "                 precision    recall  f1-score   support\n",
      "\n",
      "    Iris-setosa       1.00      1.00      1.00        11\n",
      "Iris-versicolor       1.00      0.92      0.96        13\n",
      " Iris-virginica       0.86      1.00      0.92         6\n",
      "\n",
      "       accuracy                           0.97        30\n",
      "      macro avg       0.95      0.97      0.96        30\n",
      "   weighted avg       0.97      0.97      0.97        30\n",
      "\n"
     ]
    }
   ],
   "source": [
    "# Make predictions on validation dataset \n",
    "#fit the model on the entire training dataset\n",
    "#and make predictions on the validation dataset.\n",
    "\n",
    "model = SVC(gamma='auto') \n",
    "\n",
    "model.fit(X_train, Y_train)\n",
    "\n",
    "predictions = model.predict(X_validation)\n",
    "\n",
    "\n",
    "print('X_train:',     X_train.shape)\n",
    "print('X_validation', X_validation.shape)\n",
    "print('Y_train',      Y_train.shape)\n",
    "print('Y_validation', Y_validation.shape)\n",
    "print('predictions',  predictions.shape)\n",
    "\n",
    "\n",
    "# Evaluate predictions\n",
    "print(accuracy_score(Y_validation, predictions))\n",
    "\n",
    "print(confusion_matrix(Y_validation, predictions , labels=['Iris-setosa','Iris-versicolor','Iris-virginica'] ))\n",
    "\n",
    "print(classification_report( Y_validation, predictions))\n",
    "\n",
    "\n",
    "#print(confusion_matrix(Y_validation, predictions , labels=['Iris-setosa'] ))\n",
    "#print(confusion_matrix(Y_validation, predictions , labels=['Iris-versicolor'] ))\n",
    "#print(confusion_matrix(Y_validation, predictions , labels=['Iris-virginica'] ))"
   ]
  },
  {
   "cell_type": "code",
   "execution_count": null,
   "id": "b472ed2c",
   "metadata": {},
   "outputs": [],
   "source": []
  },
  {
   "cell_type": "code",
   "execution_count": null,
   "id": "d0b96a7d",
   "metadata": {},
   "outputs": [],
   "source": []
  }
 ],
 "metadata": {
  "kernelspec": {
   "display_name": "Python 3 (ipykernel)",
   "language": "python",
   "name": "python3"
  },
  "language_info": {
   "codemirror_mode": {
    "name": "ipython",
    "version": 3
   },
   "file_extension": ".py",
   "mimetype": "text/x-python",
   "name": "python",
   "nbconvert_exporter": "python",
   "pygments_lexer": "ipython3",
   "version": "3.8.2"
  }
 },
 "nbformat": 4,
 "nbformat_minor": 5
}
