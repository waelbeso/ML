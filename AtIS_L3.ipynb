{
  "nbformat": 4,
  "nbformat_minor": 5,
  "metadata": {
    "kernelspec": {
      "display_name": "Python 3 (ipykernel)",
      "language": "python",
      "name": "python3"
    },
    "language_info": {
      "codemirror_mode": {
        "name": "ipython",
        "version": 3
      },
      "file_extension": ".py",
      "mimetype": "text/x-python",
      "name": "python",
      "nbconvert_exporter": "python",
      "pygments_lexer": "ipython3",
      "version": "3.8.2"
    },
    "colab": {
      "name": "AtIS_L3.ipynb",
      "provenance": [],
      "collapsed_sections": []
    }
  },
  "cells": [
    {
      "cell_type": "code",
      "metadata": {
        "colab": {
          "base_uri": "https://localhost:8080/"
        },
        "id": "1b538c41",
        "outputId": "db3d94b6-288c-4afd-9c70-79bf2fbe2a00"
      },
      "source": [
        "# Calculate mean of vote average column \n",
        "C = metadata['vote_average'].mean() \n",
        "print(C)"
      ],
      "id": "1b538c41",
      "execution_count": 15,
      "outputs": [
        {
          "output_type": "stream",
          "name": "stdout",
          "text": [
            "5.618207215133889\n"
          ]
        }
      ]
    },
    {
      "cell_type": "code",
      "metadata": {
        "colab": {
          "base_uri": "https://localhost:8080/",
          "height": 723
        },
        "id": "088e0c9c",
        "outputId": "b1bc2e77-05bf-4503-8c36-1a8bc4a4b597"
      },
      "source": [
        "# Import Pandas \n",
        "import pandas as pd\n",
        "# Load Movies Metadata\n",
        "\n",
        "url= \"https://github.com/jiyeon1997/movie-recommender-python/raw/master/movies_metadata.csv\"\n",
        "metadata = pd.read_csv(url, low_memory=True)\n",
        "# Print the first three rows \n",
        "#metadata.head(3)\n",
        "metadata[['title','vote_average','vote_count','overview']].head(20)"
      ],
      "id": "088e0c9c",
      "execution_count": 56,
      "outputs": [
        {
          "output_type": "stream",
          "name": "stderr",
          "text": [
            "/usr/local/lib/python3.7/dist-packages/IPython/core/interactiveshell.py:2718: DtypeWarning: Columns (10) have mixed types.Specify dtype option on import or set low_memory=False.\n",
            "  interactivity=interactivity, compiler=compiler, result=result)\n"
          ]
        },
        {
          "output_type": "execute_result",
          "data": {
            "text/html": [
              "<div>\n",
              "<style scoped>\n",
              "    .dataframe tbody tr th:only-of-type {\n",
              "        vertical-align: middle;\n",
              "    }\n",
              "\n",
              "    .dataframe tbody tr th {\n",
              "        vertical-align: top;\n",
              "    }\n",
              "\n",
              "    .dataframe thead th {\n",
              "        text-align: right;\n",
              "    }\n",
              "</style>\n",
              "<table border=\"1\" class=\"dataframe\">\n",
              "  <thead>\n",
              "    <tr style=\"text-align: right;\">\n",
              "      <th></th>\n",
              "      <th>title</th>\n",
              "      <th>vote_average</th>\n",
              "      <th>vote_count</th>\n",
              "      <th>overview</th>\n",
              "    </tr>\n",
              "  </thead>\n",
              "  <tbody>\n",
              "    <tr>\n",
              "      <th>0</th>\n",
              "      <td>Toy Story</td>\n",
              "      <td>7.7</td>\n",
              "      <td>5415.0</td>\n",
              "      <td>Led by Woody, Andy's toys live happily in his ...</td>\n",
              "    </tr>\n",
              "    <tr>\n",
              "      <th>1</th>\n",
              "      <td>Jumanji</td>\n",
              "      <td>6.9</td>\n",
              "      <td>2413.0</td>\n",
              "      <td>When siblings Judy and Peter discover an encha...</td>\n",
              "    </tr>\n",
              "    <tr>\n",
              "      <th>2</th>\n",
              "      <td>Grumpier Old Men</td>\n",
              "      <td>6.5</td>\n",
              "      <td>92.0</td>\n",
              "      <td>A family wedding reignites the ancient feud be...</td>\n",
              "    </tr>\n",
              "    <tr>\n",
              "      <th>3</th>\n",
              "      <td>Waiting to Exhale</td>\n",
              "      <td>6.1</td>\n",
              "      <td>34.0</td>\n",
              "      <td>Cheated on, mistreated and stepped on, the wom...</td>\n",
              "    </tr>\n",
              "    <tr>\n",
              "      <th>4</th>\n",
              "      <td>Father of the Bride Part II</td>\n",
              "      <td>5.7</td>\n",
              "      <td>173.0</td>\n",
              "      <td>Just when George Banks has recovered from his ...</td>\n",
              "    </tr>\n",
              "    <tr>\n",
              "      <th>5</th>\n",
              "      <td>Heat</td>\n",
              "      <td>7.7</td>\n",
              "      <td>1886.0</td>\n",
              "      <td>Obsessive master thief, Neil McCauley leads a ...</td>\n",
              "    </tr>\n",
              "    <tr>\n",
              "      <th>6</th>\n",
              "      <td>Sabrina</td>\n",
              "      <td>6.2</td>\n",
              "      <td>141.0</td>\n",
              "      <td>An ugly duckling having undergone a remarkable...</td>\n",
              "    </tr>\n",
              "    <tr>\n",
              "      <th>7</th>\n",
              "      <td>Tom and Huck</td>\n",
              "      <td>5.4</td>\n",
              "      <td>45.0</td>\n",
              "      <td>A mischievous young boy, Tom Sawyer, witnesses...</td>\n",
              "    </tr>\n",
              "    <tr>\n",
              "      <th>8</th>\n",
              "      <td>Sudden Death</td>\n",
              "      <td>5.5</td>\n",
              "      <td>174.0</td>\n",
              "      <td>International action superstar Jean Claude Van...</td>\n",
              "    </tr>\n",
              "    <tr>\n",
              "      <th>9</th>\n",
              "      <td>GoldenEye</td>\n",
              "      <td>6.6</td>\n",
              "      <td>1194.0</td>\n",
              "      <td>James Bond must unmask the mysterious head of ...</td>\n",
              "    </tr>\n",
              "    <tr>\n",
              "      <th>10</th>\n",
              "      <td>The American President</td>\n",
              "      <td>6.5</td>\n",
              "      <td>199.0</td>\n",
              "      <td>Widowed U.S. president Andrew Shepherd, one of...</td>\n",
              "    </tr>\n",
              "    <tr>\n",
              "      <th>11</th>\n",
              "      <td>Dracula: Dead and Loving It</td>\n",
              "      <td>5.7</td>\n",
              "      <td>210.0</td>\n",
              "      <td>When a lawyer shows up at the vampire's doorst...</td>\n",
              "    </tr>\n",
              "    <tr>\n",
              "      <th>12</th>\n",
              "      <td>Balto</td>\n",
              "      <td>7.1</td>\n",
              "      <td>423.0</td>\n",
              "      <td>An outcast half-wolf risks his life to prevent...</td>\n",
              "    </tr>\n",
              "    <tr>\n",
              "      <th>13</th>\n",
              "      <td>Nixon</td>\n",
              "      <td>7.1</td>\n",
              "      <td>72.0</td>\n",
              "      <td>An all-star cast powers this epic look at Amer...</td>\n",
              "    </tr>\n",
              "    <tr>\n",
              "      <th>14</th>\n",
              "      <td>Cutthroat Island</td>\n",
              "      <td>5.7</td>\n",
              "      <td>137.0</td>\n",
              "      <td>Morgan Adams and her slave, William Shaw, are ...</td>\n",
              "    </tr>\n",
              "    <tr>\n",
              "      <th>15</th>\n",
              "      <td>Casino</td>\n",
              "      <td>7.8</td>\n",
              "      <td>1343.0</td>\n",
              "      <td>The life of the gambling paradise – Las Vegas ...</td>\n",
              "    </tr>\n",
              "    <tr>\n",
              "      <th>16</th>\n",
              "      <td>Sense and Sensibility</td>\n",
              "      <td>7.2</td>\n",
              "      <td>364.0</td>\n",
              "      <td>Rich Mr. Dashwood dies, leaving his second wif...</td>\n",
              "    </tr>\n",
              "    <tr>\n",
              "      <th>17</th>\n",
              "      <td>Four Rooms</td>\n",
              "      <td>6.5</td>\n",
              "      <td>539.0</td>\n",
              "      <td>It's Ted the Bellhop's first night on the job....</td>\n",
              "    </tr>\n",
              "    <tr>\n",
              "      <th>18</th>\n",
              "      <td>Ace Ventura: When Nature Calls</td>\n",
              "      <td>6.1</td>\n",
              "      <td>1128.0</td>\n",
              "      <td>Summoned from an ashram in Tibet, Ace finds hi...</td>\n",
              "    </tr>\n",
              "    <tr>\n",
              "      <th>19</th>\n",
              "      <td>Money Train</td>\n",
              "      <td>5.4</td>\n",
              "      <td>224.0</td>\n",
              "      <td>A vengeful New York transit cop decides to ste...</td>\n",
              "    </tr>\n",
              "  </tbody>\n",
              "</table>\n",
              "</div>"
            ],
            "text/plain": [
              "                             title  ...                                           overview\n",
              "0                        Toy Story  ...  Led by Woody, Andy's toys live happily in his ...\n",
              "1                          Jumanji  ...  When siblings Judy and Peter discover an encha...\n",
              "2                 Grumpier Old Men  ...  A family wedding reignites the ancient feud be...\n",
              "3                Waiting to Exhale  ...  Cheated on, mistreated and stepped on, the wom...\n",
              "4      Father of the Bride Part II  ...  Just when George Banks has recovered from his ...\n",
              "5                             Heat  ...  Obsessive master thief, Neil McCauley leads a ...\n",
              "6                          Sabrina  ...  An ugly duckling having undergone a remarkable...\n",
              "7                     Tom and Huck  ...  A mischievous young boy, Tom Sawyer, witnesses...\n",
              "8                     Sudden Death  ...  International action superstar Jean Claude Van...\n",
              "9                        GoldenEye  ...  James Bond must unmask the mysterious head of ...\n",
              "10          The American President  ...  Widowed U.S. president Andrew Shepherd, one of...\n",
              "11     Dracula: Dead and Loving It  ...  When a lawyer shows up at the vampire's doorst...\n",
              "12                           Balto  ...  An outcast half-wolf risks his life to prevent...\n",
              "13                           Nixon  ...  An all-star cast powers this epic look at Amer...\n",
              "14                Cutthroat Island  ...  Morgan Adams and her slave, William Shaw, are ...\n",
              "15                          Casino  ...  The life of the gambling paradise – Las Vegas ...\n",
              "16           Sense and Sensibility  ...  Rich Mr. Dashwood dies, leaving his second wif...\n",
              "17                      Four Rooms  ...  It's Ted the Bellhop's first night on the job....\n",
              "18  Ace Ventura: When Nature Calls  ...  Summoned from an ashram in Tibet, Ace finds hi...\n",
              "19                     Money Train  ...  A vengeful New York transit cop decides to ste...\n",
              "\n",
              "[20 rows x 4 columns]"
            ]
          },
          "metadata": {},
          "execution_count": 56
        }
      ]
    },
    {
      "cell_type": "code",
      "metadata": {
        "colab": {
          "base_uri": "https://localhost:8080/"
        },
        "id": "8e3528ed",
        "outputId": "2c258d7b-f306-4952-bd68-13569aba16db"
      },
      "source": [
        "# Calculate the minimum number of votes required to be in the chart, m \n",
        "m = metadata['vote_count'].quantile(0.90)\n",
        "print(m)"
      ],
      "id": "8e3528ed",
      "execution_count": 57,
      "outputs": [
        {
          "output_type": "stream",
          "name": "stdout",
          "text": [
            "160.0\n"
          ]
        }
      ]
    },
    {
      "cell_type": "code",
      "metadata": {
        "colab": {
          "base_uri": "https://localhost:8080/"
        },
        "id": "dfafae07",
        "outputId": "3ea27491-6689-4731-f48c-c660bde930be"
      },
      "source": [
        "# Filter out all qualified movies into a new DataFrame\n",
        "q_movies = metadata.copy().loc[metadata['vote_count'] >= m] \n",
        "\n",
        "print(q_movies.shape)\n",
        "metadata.shape"
      ],
      "id": "dfafae07",
      "execution_count": 58,
      "outputs": [
        {
          "output_type": "stream",
          "name": "stdout",
          "text": [
            "(4555, 24)\n"
          ]
        },
        {
          "output_type": "execute_result",
          "data": {
            "text/plain": [
              "(45466, 24)"
            ]
          },
          "metadata": {},
          "execution_count": 58
        }
      ]
    },
    {
      "cell_type": "code",
      "metadata": {
        "id": "3033fffe"
      },
      "source": [
        "# Function that computes the weighted rating of each movie \n",
        "def weighted_rating(x, m=m, C=C):\n",
        "    v = x['vote_count']\n",
        "    R = x['vote_average']\n",
        "    # Calculation based on the IMDB formula \n",
        "    return (v/(v+m) * R) + (m/(m+v) * C)\n",
        "# Define a new feature 'score' and calculate its value with `weighted_rating()`\n",
        "q_movies['score'] = q_movies.apply(weighted_rating, axis=1)"
      ],
      "id": "3033fffe",
      "execution_count": 59,
      "outputs": []
    },
    {
      "cell_type": "code",
      "metadata": {
        "colab": {
          "base_uri": "https://localhost:8080/",
          "height": 669
        },
        "id": "85df3bd4",
        "outputId": "aa6f6539-f22b-437a-d784-854337d8dece"
      },
      "source": [
        "#Sort movies based on score calculated above\n",
        "q_movies = q_movies.sort_values('score', ascending=False)\n",
        "#Print the top 15 movies\n",
        "q_movies[['title', 'vote_count', 'vote_average', 'score']].head(20)"
      ],
      "id": "85df3bd4",
      "execution_count": 60,
      "outputs": [
        {
          "output_type": "execute_result",
          "data": {
            "text/html": [
              "<div>\n",
              "<style scoped>\n",
              "    .dataframe tbody tr th:only-of-type {\n",
              "        vertical-align: middle;\n",
              "    }\n",
              "\n",
              "    .dataframe tbody tr th {\n",
              "        vertical-align: top;\n",
              "    }\n",
              "\n",
              "    .dataframe thead th {\n",
              "        text-align: right;\n",
              "    }\n",
              "</style>\n",
              "<table border=\"1\" class=\"dataframe\">\n",
              "  <thead>\n",
              "    <tr style=\"text-align: right;\">\n",
              "      <th></th>\n",
              "      <th>title</th>\n",
              "      <th>vote_count</th>\n",
              "      <th>vote_average</th>\n",
              "      <th>score</th>\n",
              "    </tr>\n",
              "  </thead>\n",
              "  <tbody>\n",
              "    <tr>\n",
              "      <th>314</th>\n",
              "      <td>The Shawshank Redemption</td>\n",
              "      <td>8358.0</td>\n",
              "      <td>8.5</td>\n",
              "      <td>8.445869</td>\n",
              "    </tr>\n",
              "    <tr>\n",
              "      <th>834</th>\n",
              "      <td>The Godfather</td>\n",
              "      <td>6024.0</td>\n",
              "      <td>8.5</td>\n",
              "      <td>8.425439</td>\n",
              "    </tr>\n",
              "    <tr>\n",
              "      <th>10309</th>\n",
              "      <td>Dilwale Dulhania Le Jayenge</td>\n",
              "      <td>661.0</td>\n",
              "      <td>9.1</td>\n",
              "      <td>8.421453</td>\n",
              "    </tr>\n",
              "    <tr>\n",
              "      <th>12481</th>\n",
              "      <td>The Dark Knight</td>\n",
              "      <td>12269.0</td>\n",
              "      <td>8.3</td>\n",
              "      <td>8.265477</td>\n",
              "    </tr>\n",
              "    <tr>\n",
              "      <th>2843</th>\n",
              "      <td>Fight Club</td>\n",
              "      <td>9678.0</td>\n",
              "      <td>8.3</td>\n",
              "      <td>8.256385</td>\n",
              "    </tr>\n",
              "    <tr>\n",
              "      <th>292</th>\n",
              "      <td>Pulp Fiction</td>\n",
              "      <td>8670.0</td>\n",
              "      <td>8.3</td>\n",
              "      <td>8.251406</td>\n",
              "    </tr>\n",
              "    <tr>\n",
              "      <th>522</th>\n",
              "      <td>Schindler's List</td>\n",
              "      <td>4436.0</td>\n",
              "      <td>8.3</td>\n",
              "      <td>8.206639</td>\n",
              "    </tr>\n",
              "    <tr>\n",
              "      <th>23673</th>\n",
              "      <td>Whiplash</td>\n",
              "      <td>4376.0</td>\n",
              "      <td>8.3</td>\n",
              "      <td>8.205404</td>\n",
              "    </tr>\n",
              "    <tr>\n",
              "      <th>5481</th>\n",
              "      <td>Spirited Away</td>\n",
              "      <td>3968.0</td>\n",
              "      <td>8.3</td>\n",
              "      <td>8.196055</td>\n",
              "    </tr>\n",
              "    <tr>\n",
              "      <th>2211</th>\n",
              "      <td>Life Is Beautiful</td>\n",
              "      <td>3643.0</td>\n",
              "      <td>8.3</td>\n",
              "      <td>8.187171</td>\n",
              "    </tr>\n",
              "    <tr>\n",
              "      <th>1178</th>\n",
              "      <td>The Godfather: Part II</td>\n",
              "      <td>3418.0</td>\n",
              "      <td>8.3</td>\n",
              "      <td>8.180076</td>\n",
              "    </tr>\n",
              "    <tr>\n",
              "      <th>1152</th>\n",
              "      <td>One Flew Over the Cuckoo's Nest</td>\n",
              "      <td>3001.0</td>\n",
              "      <td>8.3</td>\n",
              "      <td>8.164256</td>\n",
              "    </tr>\n",
              "    <tr>\n",
              "      <th>351</th>\n",
              "      <td>Forrest Gump</td>\n",
              "      <td>8147.0</td>\n",
              "      <td>8.2</td>\n",
              "      <td>8.150272</td>\n",
              "    </tr>\n",
              "    <tr>\n",
              "      <th>1154</th>\n",
              "      <td>The Empire Strikes Back</td>\n",
              "      <td>5998.0</td>\n",
              "      <td>8.2</td>\n",
              "      <td>8.132919</td>\n",
              "    </tr>\n",
              "    <tr>\n",
              "      <th>1176</th>\n",
              "      <td>Psycho</td>\n",
              "      <td>2405.0</td>\n",
              "      <td>8.3</td>\n",
              "      <td>8.132715</td>\n",
              "    </tr>\n",
              "    <tr>\n",
              "      <th>18465</th>\n",
              "      <td>The Intouchables</td>\n",
              "      <td>5410.0</td>\n",
              "      <td>8.2</td>\n",
              "      <td>8.125837</td>\n",
              "    </tr>\n",
              "    <tr>\n",
              "      <th>40251</th>\n",
              "      <td>Your Name.</td>\n",
              "      <td>1030.0</td>\n",
              "      <td>8.5</td>\n",
              "      <td>8.112532</td>\n",
              "    </tr>\n",
              "    <tr>\n",
              "      <th>289</th>\n",
              "      <td>Leon: The Professional</td>\n",
              "      <td>4293.0</td>\n",
              "      <td>8.2</td>\n",
              "      <td>8.107234</td>\n",
              "    </tr>\n",
              "    <tr>\n",
              "      <th>3030</th>\n",
              "      <td>The Green Mile</td>\n",
              "      <td>4166.0</td>\n",
              "      <td>8.2</td>\n",
              "      <td>8.104511</td>\n",
              "    </tr>\n",
              "    <tr>\n",
              "      <th>1170</th>\n",
              "      <td>GoodFellas</td>\n",
              "      <td>3211.0</td>\n",
              "      <td>8.2</td>\n",
              "      <td>8.077459</td>\n",
              "    </tr>\n",
              "  </tbody>\n",
              "</table>\n",
              "</div>"
            ],
            "text/plain": [
              "                                 title  vote_count  vote_average     score\n",
              "314           The Shawshank Redemption      8358.0           8.5  8.445869\n",
              "834                      The Godfather      6024.0           8.5  8.425439\n",
              "10309      Dilwale Dulhania Le Jayenge       661.0           9.1  8.421453\n",
              "12481                  The Dark Knight     12269.0           8.3  8.265477\n",
              "2843                        Fight Club      9678.0           8.3  8.256385\n",
              "292                       Pulp Fiction      8670.0           8.3  8.251406\n",
              "522                   Schindler's List      4436.0           8.3  8.206639\n",
              "23673                         Whiplash      4376.0           8.3  8.205404\n",
              "5481                     Spirited Away      3968.0           8.3  8.196055\n",
              "2211                 Life Is Beautiful      3643.0           8.3  8.187171\n",
              "1178            The Godfather: Part II      3418.0           8.3  8.180076\n",
              "1152   One Flew Over the Cuckoo's Nest      3001.0           8.3  8.164256\n",
              "351                       Forrest Gump      8147.0           8.2  8.150272\n",
              "1154           The Empire Strikes Back      5998.0           8.2  8.132919\n",
              "1176                            Psycho      2405.0           8.3  8.132715\n",
              "18465                 The Intouchables      5410.0           8.2  8.125837\n",
              "40251                       Your Name.      1030.0           8.5  8.112532\n",
              "289             Leon: The Professional      4293.0           8.2  8.107234\n",
              "3030                    The Green Mile      4166.0           8.2  8.104511\n",
              "1170                        GoodFellas      3211.0           8.2  8.077459"
            ]
          },
          "metadata": {},
          "execution_count": 60
        }
      ]
    },
    {
      "cell_type": "code",
      "metadata": {
        "colab": {
          "base_uri": "https://localhost:8080/"
        },
        "id": "47517e26",
        "outputId": "bf54e8fb-598a-48d7-ebd0-cbf3b44cc4e3"
      },
      "source": [
        "#Print plot overviews of the first 5 movies. \n",
        "metadata['overview'].head()"
      ],
      "id": "47517e26",
      "execution_count": 61,
      "outputs": [
        {
          "output_type": "execute_result",
          "data": {
            "text/plain": [
              "0    Led by Woody, Andy's toys live happily in his ...\n",
              "1    When siblings Judy and Peter discover an encha...\n",
              "2    A family wedding reignites the ancient feud be...\n",
              "3    Cheated on, mistreated and stepped on, the wom...\n",
              "4    Just when George Banks has recovered from his ...\n",
              "Name: overview, dtype: object"
            ]
          },
          "metadata": {},
          "execution_count": 61
        }
      ]
    },
    {
      "cell_type": "code",
      "metadata": {
        "colab": {
          "base_uri": "https://localhost:8080/"
        },
        "id": "ede72185",
        "outputId": "fd9d570d-2d75-4217-ec07-cadc46cf0989"
      },
      "source": [
        "metadata.shape\n",
        "q_movies.shape"
      ],
      "id": "ede72185",
      "execution_count": 62,
      "outputs": [
        {
          "output_type": "execute_result",
          "data": {
            "text/plain": [
              "(4555, 25)"
            ]
          },
          "metadata": {},
          "execution_count": 62
        }
      ]
    },
    {
      "cell_type": "code",
      "metadata": {
        "colab": {
          "base_uri": "https://localhost:8080/"
        },
        "id": "5e38195f",
        "outputId": "6df3bff1-c585-4ddc-b65e-4289d070e5c3"
      },
      "source": [
        "#Import TfIdfVectorizer from scikit-learn\n",
        "from sklearn.feature_extraction.text import TfidfVectorizer\n",
        "#Define a TF-IDF Vectorizer Object. Remove all english stop words such as 'the', 'a'\n",
        "\n",
        "tfidf = TfidfVectorizer(stop_words='english')\n",
        "#Replace NaN with an empty string \n",
        "#metadata['overview'] = metadata['overview'].fillna('')\n",
        "q_movies['overview'] = q_movies['overview'].fillna('')\n",
        "#Construct the required TF-IDF matrix by fitting and transforming the data \n",
        "tfidf_matrix = tfidf.fit_transform(q_movies['overview'])\n",
        "#tfidf_matrix = tfidf.fit_transform(metadata['overview'])\n",
        "#Output the shape of tfidf_matrix \n",
        "tfidf_matrix.shape"
      ],
      "id": "5e38195f",
      "execution_count": 63,
      "outputs": [
        {
          "output_type": "execute_result",
          "data": {
            "text/plain": [
              "(4555, 19694)"
            ]
          },
          "metadata": {},
          "execution_count": 63
        }
      ]
    },
    {
      "cell_type": "code",
      "metadata": {
        "colab": {
          "base_uri": "https://localhost:8080/"
        },
        "id": "e8b22330",
        "outputId": "a55595de-9f03-4df8-8983-ff95e01f4b41"
      },
      "source": [
        "#Array mapping from feature integer indices to feature name. \n",
        "tfidf.get_feature_names()[5000:5010]\n",
        "#tfidf.get_feature_names_out()[5000:5010]"
      ],
      "id": "e8b22330",
      "execution_count": 64,
      "outputs": [
        {
          "output_type": "execute_result",
          "data": {
            "text/plain": [
              "['did',\n",
              " 'didn',\n",
              " 'dido',\n",
              " 'die',\n",
              " 'died',\n",
              " 'diego',\n",
              " 'dies',\n",
              " 'diesel',\n",
              " 'diet',\n",
              " 'dietary']"
            ]
          },
          "metadata": {},
          "execution_count": 64
        }
      ]
    },
    {
      "cell_type": "code",
      "metadata": {
        "colab": {
          "base_uri": "https://localhost:8080/"
        },
        "id": "463f38a4",
        "outputId": "1595ec5e-5dd7-4d7f-d628-c498b2db83d1"
      },
      "source": [
        "# Import linear_kernel\n",
        "from sklearn.metrics.pairwise import linear_kernel\n",
        "# Compute the cosine similarity matrix\n",
        "cosine_sim = linear_kernel(tfidf_matrix, tfidf_matrix)\n",
        "print(cosine_sim.shape)\n",
        "cosine_sim[1]"
      ],
      "id": "463f38a4",
      "execution_count": 65,
      "outputs": [
        {
          "output_type": "stream",
          "name": "stdout",
          "text": [
            "(4555, 4555)\n"
          ]
        },
        {
          "output_type": "execute_result",
          "data": {
            "text/plain": [
              "array([0.00522362, 1.        , 0.01249039, ..., 0.        , 0.01420965,\n",
              "       0.01535064])"
            ]
          },
          "metadata": {},
          "execution_count": 65
        }
      ]
    },
    {
      "cell_type": "code",
      "metadata": {
        "colab": {
          "base_uri": "https://localhost:8080/"
        },
        "id": "d90372cb",
        "outputId": "8393206a-d427-4f05-b526-d1aac8bb86fe"
      },
      "source": [
        "#Construct a reverse map of indices and movie titles\n",
        "indices = pd.Series(q_movies.index, index=q_movies['title']).drop_duplicates()\n",
        "indices[:10]"
      ],
      "id": "d90372cb",
      "execution_count": 66,
      "outputs": [
        {
          "output_type": "execute_result",
          "data": {
            "text/plain": [
              "title\n",
              "The Shawshank Redemption         314\n",
              "The Godfather                    834\n",
              "Dilwale Dulhania Le Jayenge    10309\n",
              "The Dark Knight                12481\n",
              "Fight Club                      2843\n",
              "Pulp Fiction                     292\n",
              "Schindler's List                 522\n",
              "Whiplash                       23673\n",
              "Spirited Away                   5481\n",
              "Life Is Beautiful               2211\n",
              "dtype: int64"
            ]
          },
          "metadata": {},
          "execution_count": 66
        }
      ]
    },
    {
      "cell_type": "code",
      "metadata": {
        "id": "e0355823"
      },
      "source": [
        "# Function that takes in movie title as input and outputs most similar movies\n",
        "def get_recommendations(title, cosine_sim=cosine_sim):\n",
        "    # Get the index of the movie that matches the title\n",
        "    idx = indices[title]\n",
        "\n",
        "    # Get the pairwsie similarity scores of all movies with that movie\n",
        "    sim_scores = list(enumerate(cosine_sim[idx]))\n",
        "\n",
        "    # Sort the movies based on the similarity scores\n",
        "    sim_scores = sorted(sim_scores, key=lambda x: x[1], reverse=True)\n",
        "\n",
        "    # Get the scores of the 10 most similar movies\n",
        "    sim_scores = sim_scores[1:11]\n",
        "\n",
        "    # Get the movie indices\n",
        "    movie_indices = [i[0] for i in sim_scores]\n",
        "\n",
        "    # Return the top 10 most similar movies\n",
        "    return q_movies['title'].iloc[movie_indices]"
      ],
      "id": "e0355823",
      "execution_count": 67,
      "outputs": []
    },
    {
      "cell_type": "code",
      "metadata": {
        "colab": {
          "base_uri": "https://localhost:8080/"
        },
        "id": "402323a7",
        "outputId": "dc31b5f4-8068-489a-879d-15190ead045b"
      },
      "source": [
        "get_recommendations('The Godfather')"
      ],
      "id": "402323a7",
      "execution_count": 68,
      "outputs": [
        {
          "output_type": "execute_result",
          "data": {
            "text/plain": [
              "5345          K-19: The Widowmaker\n",
              "1189                      Das Boot\n",
              "2965       The World Is Not Enough\n",
              "5743                       Solaris\n",
              "4238     Atlantis: The Lost Empire\n",
              "40024            Deepwater Horizon\n",
              "461           Hot Shots! Part Deux\n",
              "897          2001: A Space Odyssey\n",
              "7101          The Butterfly Effect\n",
              "10384                   Flightplan\n",
              "Name: title, dtype: object"
            ]
          },
          "metadata": {},
          "execution_count": 68
        }
      ]
    },
    {
      "cell_type": "code",
      "metadata": {
        "colab": {
          "base_uri": "https://localhost:8080/",
          "height": 318
        },
        "id": "3f9ec839",
        "outputId": "57940769-618f-44b4-ac5f-dad61224353b"
      },
      "source": [
        "# Load keywords and credits\n",
        "keywordsURL = 'https://github.com/waelbeso/ML/raw/main/keywords.csv'\n",
        "creditsURL = 'https://github.com/waelbeso/ML/raw/main/credits_4555.csv'\n",
        "credits = pd.read_csv(creditsURL) \n",
        "keywords = pd.read_csv(keywordsURL)\n",
        "# Remove rows with bad IDs.\n",
        "metadata = metadata.drop([19730, 29503, 35587])\n",
        "# Convert IDs to int. Required for merging \n",
        "keywords['id'] = keywords['id'].astype('int') \n",
        "credits['id'] = credits['id'].astype('int') \n",
        "metadata['id'] = metadata['id'].astype('int')\n",
        "# Merge keywords and credits into your main metadata dataframe \n",
        "metadata = metadata.merge(credits, on='id')\n",
        "metadata = metadata.merge(keywords, on='id')\n",
        "# Print the first two movies of your newly merged metadata \n",
        "metadata.head(2)"
      ],
      "id": "3f9ec839",
      "execution_count": 69,
      "outputs": [
        {
          "output_type": "execute_result",
          "data": {
            "text/html": [
              "<div>\n",
              "<style scoped>\n",
              "    .dataframe tbody tr th:only-of-type {\n",
              "        vertical-align: middle;\n",
              "    }\n",
              "\n",
              "    .dataframe tbody tr th {\n",
              "        vertical-align: top;\n",
              "    }\n",
              "\n",
              "    .dataframe thead th {\n",
              "        text-align: right;\n",
              "    }\n",
              "</style>\n",
              "<table border=\"1\" class=\"dataframe\">\n",
              "  <thead>\n",
              "    <tr style=\"text-align: right;\">\n",
              "      <th></th>\n",
              "      <th>adult</th>\n",
              "      <th>belongs_to_collection</th>\n",
              "      <th>budget</th>\n",
              "      <th>genres</th>\n",
              "      <th>homepage</th>\n",
              "      <th>id</th>\n",
              "      <th>imdb_id</th>\n",
              "      <th>original_language</th>\n",
              "      <th>original_title</th>\n",
              "      <th>overview</th>\n",
              "      <th>popularity</th>\n",
              "      <th>poster_path</th>\n",
              "      <th>production_companies</th>\n",
              "      <th>production_countries</th>\n",
              "      <th>release_date</th>\n",
              "      <th>revenue</th>\n",
              "      <th>runtime</th>\n",
              "      <th>spoken_languages</th>\n",
              "      <th>status</th>\n",
              "      <th>tagline</th>\n",
              "      <th>title</th>\n",
              "      <th>video</th>\n",
              "      <th>vote_average</th>\n",
              "      <th>vote_count</th>\n",
              "      <th>cast</th>\n",
              "      <th>crew</th>\n",
              "      <th>keywords</th>\n",
              "    </tr>\n",
              "  </thead>\n",
              "  <tbody>\n",
              "    <tr>\n",
              "      <th>0</th>\n",
              "      <td>False</td>\n",
              "      <td>{'id': 10194, 'name': 'Toy Story Collection', ...</td>\n",
              "      <td>30000000</td>\n",
              "      <td>[{'id': 16, 'name': 'Animation'}, {'id': 35, '...</td>\n",
              "      <td>http://toystory.disney.com/toy-story</td>\n",
              "      <td>862</td>\n",
              "      <td>tt0114709</td>\n",
              "      <td>en</td>\n",
              "      <td>Toy Story</td>\n",
              "      <td>Led by Woody, Andy's toys live happily in his ...</td>\n",
              "      <td>21.9469</td>\n",
              "      <td>/rhIRbceoE9lR4veEXuwCC2wARtG.jpg</td>\n",
              "      <td>[{'name': 'Pixar Animation Studios', 'id': 3}]</td>\n",
              "      <td>[{'iso_3166_1': 'US', 'name': 'United States o...</td>\n",
              "      <td>1995-10-30</td>\n",
              "      <td>373554033.0</td>\n",
              "      <td>81.0</td>\n",
              "      <td>[{'iso_639_1': 'en', 'name': 'English'}]</td>\n",
              "      <td>Released</td>\n",
              "      <td>NaN</td>\n",
              "      <td>Toy Story</td>\n",
              "      <td>False</td>\n",
              "      <td>7.7</td>\n",
              "      <td>5415.0</td>\n",
              "      <td>[{'cast_id': 14, 'character': 'Woody (voice)',...</td>\n",
              "      <td>[{'credit_id': '52fe4284c3a36847f8024f49', 'de...</td>\n",
              "      <td>[{'id': 931, 'name': 'jealousy'}, {'id': 4290,...</td>\n",
              "    </tr>\n",
              "    <tr>\n",
              "      <th>1</th>\n",
              "      <td>False</td>\n",
              "      <td>NaN</td>\n",
              "      <td>65000000</td>\n",
              "      <td>[{'id': 12, 'name': 'Adventure'}, {'id': 14, '...</td>\n",
              "      <td>NaN</td>\n",
              "      <td>8844</td>\n",
              "      <td>tt0113497</td>\n",
              "      <td>en</td>\n",
              "      <td>Jumanji</td>\n",
              "      <td>When siblings Judy and Peter discover an encha...</td>\n",
              "      <td>17.0155</td>\n",
              "      <td>/vzmL6fP7aPKNKPRTFnZmiUfciyV.jpg</td>\n",
              "      <td>[{'name': 'TriStar Pictures', 'id': 559}, {'na...</td>\n",
              "      <td>[{'iso_3166_1': 'US', 'name': 'United States o...</td>\n",
              "      <td>1995-12-15</td>\n",
              "      <td>262797249.0</td>\n",
              "      <td>104.0</td>\n",
              "      <td>[{'iso_639_1': 'en', 'name': 'English'}, {'iso...</td>\n",
              "      <td>Released</td>\n",
              "      <td>Roll the dice and unleash the excitement!</td>\n",
              "      <td>Jumanji</td>\n",
              "      <td>False</td>\n",
              "      <td>6.9</td>\n",
              "      <td>2413.0</td>\n",
              "      <td>[{'cast_id': 1, 'character': 'Alan Parrish', '...</td>\n",
              "      <td>[{'credit_id': '52fe44bfc3a36847f80a7cd1', 'de...</td>\n",
              "      <td>[{'id': 10090, 'name': 'board game'}, {'id': 1...</td>\n",
              "    </tr>\n",
              "  </tbody>\n",
              "</table>\n",
              "</div>"
            ],
            "text/plain": [
              "   adult  ...                                           keywords\n",
              "0  False  ...  [{'id': 931, 'name': 'jealousy'}, {'id': 4290,...\n",
              "1  False  ...  [{'id': 10090, 'name': 'board game'}, {'id': 1...\n",
              "\n",
              "[2 rows x 27 columns]"
            ]
          },
          "metadata": {},
          "execution_count": 69
        }
      ]
    },
    {
      "cell_type": "code",
      "metadata": {
        "id": "a78edd3a"
      },
      "source": [
        "# Parse the stringified features into their corresponding python objects \n",
        "from ast import literal_eval\n",
        "features = ['cast', 'crew', 'keywords', 'genres'] \n",
        "for feature in features:\n",
        "    metadata[feature] = metadata[feature].apply(literal_eval)"
      ],
      "id": "a78edd3a",
      "execution_count": 70,
      "outputs": []
    },
    {
      "cell_type": "code",
      "metadata": {
        "colab": {
          "base_uri": "https://localhost:8080/"
        },
        "id": "f78620f1",
        "outputId": "9de3bfa6-4732-4957-d2f2-09fcf5eb1e2c"
      },
      "source": [
        "print (metadata.shape)\n",
        "import numpy as np\n",
        "# Import Numpy import numpy as np\n",
        "def get_director(x): \n",
        "    for i in x:\n",
        "        if i['job'] == 'Director': \n",
        "            return i['name']\n",
        "    return np.nan"
      ],
      "id": "f78620f1",
      "execution_count": 71,
      "outputs": [
        {
          "output_type": "stream",
          "name": "stdout",
          "text": [
            "(2012, 27)\n"
          ]
        }
      ]
    },
    {
      "cell_type": "code",
      "metadata": {
        "colab": {
          "base_uri": "https://localhost:8080/",
          "height": 193
        },
        "id": "0b924c5e",
        "outputId": "5ca3dea5-dae2-42c3-bb4c-cd61fea3193a"
      },
      "source": [
        "import numpy as np\n",
        "def get_list(x):\n",
        "    if isinstance(x, list):\n",
        "        names = [i['name'] for i in x]\n",
        "        #Check if more than 3 elements exist. If yes, return only first three. If no, return entire list.\n",
        "        if len(names) > 3: \n",
        "            names = names[:3]\n",
        "        return names\n",
        "    #Return empty list in case of missing/malformed data\n",
        "    return []\n",
        "# Define new director, cast, genres and keywords features that are in a suitable form.\n",
        "metadata['director'] = metadata['crew'].apply(get_director)\n",
        "# Print the new features of the first 3 films\n",
        "metadata[['title', 'cast', 'director', 'keywords', 'genres']].head(3)"
      ],
      "id": "0b924c5e",
      "execution_count": 72,
      "outputs": [
        {
          "output_type": "execute_result",
          "data": {
            "text/html": [
              "<div>\n",
              "<style scoped>\n",
              "    .dataframe tbody tr th:only-of-type {\n",
              "        vertical-align: middle;\n",
              "    }\n",
              "\n",
              "    .dataframe tbody tr th {\n",
              "        vertical-align: top;\n",
              "    }\n",
              "\n",
              "    .dataframe thead th {\n",
              "        text-align: right;\n",
              "    }\n",
              "</style>\n",
              "<table border=\"1\" class=\"dataframe\">\n",
              "  <thead>\n",
              "    <tr style=\"text-align: right;\">\n",
              "      <th></th>\n",
              "      <th>title</th>\n",
              "      <th>cast</th>\n",
              "      <th>director</th>\n",
              "      <th>keywords</th>\n",
              "      <th>genres</th>\n",
              "    </tr>\n",
              "  </thead>\n",
              "  <tbody>\n",
              "    <tr>\n",
              "      <th>0</th>\n",
              "      <td>Toy Story</td>\n",
              "      <td>[{'cast_id': 14, 'character': 'Woody (voice)',...</td>\n",
              "      <td>John Lasseter</td>\n",
              "      <td>[{'id': 931, 'name': 'jealousy'}, {'id': 4290,...</td>\n",
              "      <td>[{'id': 16, 'name': 'Animation'}, {'id': 35, '...</td>\n",
              "    </tr>\n",
              "    <tr>\n",
              "      <th>1</th>\n",
              "      <td>Jumanji</td>\n",
              "      <td>[{'cast_id': 1, 'character': 'Alan Parrish', '...</td>\n",
              "      <td>Joe Johnston</td>\n",
              "      <td>[{'id': 10090, 'name': 'board game'}, {'id': 1...</td>\n",
              "      <td>[{'id': 12, 'name': 'Adventure'}, {'id': 14, '...</td>\n",
              "    </tr>\n",
              "    <tr>\n",
              "      <th>2</th>\n",
              "      <td>Grumpier Old Men</td>\n",
              "      <td>[{'cast_id': 2, 'character': 'Max Goldman', 'c...</td>\n",
              "      <td>Howard Deutch</td>\n",
              "      <td>[{'id': 1495, 'name': 'fishing'}, {'id': 12392...</td>\n",
              "      <td>[{'id': 10749, 'name': 'Romance'}, {'id': 35, ...</td>\n",
              "    </tr>\n",
              "  </tbody>\n",
              "</table>\n",
              "</div>"
            ],
            "text/plain": [
              "              title  ...                                             genres\n",
              "0         Toy Story  ...  [{'id': 16, 'name': 'Animation'}, {'id': 35, '...\n",
              "1           Jumanji  ...  [{'id': 12, 'name': 'Adventure'}, {'id': 14, '...\n",
              "2  Grumpier Old Men  ...  [{'id': 10749, 'name': 'Romance'}, {'id': 35, ...\n",
              "\n",
              "[3 rows x 5 columns]"
            ]
          },
          "metadata": {},
          "execution_count": 72
        }
      ]
    },
    {
      "cell_type": "code",
      "metadata": {
        "colab": {
          "base_uri": "https://localhost:8080/"
        },
        "id": "6e25298b",
        "outputId": "522af576-6026-4881-adee-ef7419d14ab3"
      },
      "source": [
        "print (metadata.shape)\n",
        "\n",
        "# Function to convert all strings to lower case and strip names of spaces\n",
        "\n",
        "def clean_data(x):\n",
        "    if isinstance(x, list):\n",
        "        return [ str.lower(str(x).replace(\" \", \"\")) for i in x ]\n",
        "    else:\n",
        "        #Check if director exists. If not, return empty string\n",
        "        if isinstance(x, str):\n",
        "            return str.lower(x.replace(\" \", \"\"))\n",
        "        return ''\n",
        "\n",
        "# Apply clean_data function to your features.\n",
        "features = ['cast', 'keywords', 'director', 'genres']\n",
        "\n",
        "for feature in features:\n",
        "    metadata[feature] = metadata[feature].apply(clean_data)\n",
        "    \n",
        "print (metadata.shape)"
      ],
      "id": "6e25298b",
      "execution_count": 73,
      "outputs": [
        {
          "output_type": "stream",
          "name": "stdout",
          "text": [
            "(2012, 28)\n",
            "(2012, 28)\n"
          ]
        }
      ]
    },
    {
      "cell_type": "code",
      "metadata": {
        "colab": {
          "base_uri": "https://localhost:8080/"
        },
        "id": "6634468a",
        "outputId": "d1d9e0c2-ded6-418a-dcee-8ccef3524c58"
      },
      "source": [
        "\n",
        "#This function makes use of the property of the cosine similarity funciton that\n",
        "#the order and types of inputs don't matter, what matters is the similarity\n",
        "#between different soups of words\n",
        "def create_soup(x):\n",
        "    return ' '.join(x['keywords']) + ' ' + ' '.join(x['cast']) + ' ' + x['director'] + ' ' + ' '.join(x['genres'])\n",
        "'''\n",
        "def create_soup(x):\n",
        "    return' '.join( str(x['keywords'] ))  + ' ' + ' '.join( str( x['cast'] )) + ' ' + ' '.join(str(x['director'])) + ' ' + ' '.join(str(x['genres']))\n",
        "'''\n",
        "metadata['soup'] = metadata.apply(create_soup, axis=1)\n",
        "print(metadata[['soup']].head())\n",
        "#metadata[['title', 'soup', 'cast', 'director', 'keywords', 'genres']].head()\n",
        "print(metadata[['soup']].shape)"
      ],
      "id": "6634468a",
      "execution_count": 74,
      "outputs": [
        {
          "output_type": "stream",
          "name": "stdout",
          "text": [
            "                                                soup\n",
            "0  [{'id':931,'name':'jealousy'},{'id':4290,'name...\n",
            "1  [{'id':10090,'name':'boardgame'},{'id':10941,'...\n",
            "2  [{'id':1495,'name':'fishing'},{'id':12392,'nam...\n",
            "3  [{'id':818,'name':'basedonnovel'},{'id':10131,...\n",
            "4  [{'id':1009,'name':'baby'},{'id':1599,'name':'...\n",
            "(2012, 1)\n"
          ]
        }
      ]
    },
    {
      "cell_type": "code",
      "metadata": {
        "id": "745001cb"
      },
      "source": [
        "# Import CountVectorizer and create the count matrix\n",
        "from sklearn.feature_extraction.text import CountVectorizer\n",
        "\n",
        "#count = CountVectorizer(stop_words='english') \n",
        "count_matrix = count.fit_transform(metadata['soup'])"
      ],
      "id": "745001cb",
      "execution_count": 75,
      "outputs": []
    },
    {
      "cell_type": "code",
      "metadata": {
        "colab": {
          "base_uri": "https://localhost:8080/"
        },
        "id": "cef52367",
        "outputId": "050b0b06-37ca-4a5a-b28b-a75e346fdf6f"
      },
      "source": [
        "metadata['soup'].shape"
      ],
      "id": "cef52367",
      "execution_count": 76,
      "outputs": [
        {
          "output_type": "execute_result",
          "data": {
            "text/plain": [
              "(2012,)"
            ]
          },
          "metadata": {},
          "execution_count": 76
        }
      ]
    },
    {
      "cell_type": "code",
      "metadata": {
        "colab": {
          "base_uri": "https://localhost:8080/"
        },
        "id": "b3c57d4f",
        "outputId": "2eb3ea0f-6f74-4f3e-a028-779aec3ff10b"
      },
      "source": [
        "count_matrix = count.fit_transform(metadata['soup']) \n",
        "count_matrix.shape"
      ],
      "id": "b3c57d4f",
      "execution_count": 77,
      "outputs": [
        {
          "output_type": "execute_result",
          "data": {
            "text/plain": [
              "(2012, 125992)"
            ]
          },
          "metadata": {},
          "execution_count": 77
        }
      ]
    },
    {
      "cell_type": "code",
      "metadata": {
        "id": "dbca17ae"
      },
      "source": [
        "# Compute the Cosine Similarity matrix based on the count_matrix\n",
        "from sklearn.metrics.pairwise import cosine_similarity\n",
        "\n",
        "cosine_sim2 = cosine_similarity(count_matrix, count_matrix)\n",
        "\n",
        "# Reset index of your main DataFrame and construct reverse mapping as before\n",
        "metadata = metadata.reset_index()\n",
        "indices = pd.Series(metadata.index, index=metadata['title'])"
      ],
      "id": "dbca17ae",
      "execution_count": 78,
      "outputs": []
    },
    {
      "cell_type": "code",
      "metadata": {
        "colab": {
          "base_uri": "https://localhost:8080/"
        },
        "id": "a0c26c5e",
        "outputId": "c09a17fe-0fde-4bbc-9562-546a553742a1"
      },
      "source": [
        "get_recommendations('Toy Story', cosine_sim2)"
      ],
      "id": "a0c26c5e",
      "execution_count": 79,
      "outputs": [
        {
          "output_type": "execute_result",
          "data": {
            "text/plain": [
              "7234                       Dawn of the Dead\n",
              "4883                           Gosford Park\n",
              "2646                         The Iron Giant\n",
              "11921                 Live Free or Die Hard\n",
              "362                                The Mask\n",
              "23472    Mission: Impossible - Rogue Nation\n",
              "6920                             Stagecoach\n",
              "1299              A Nightmare on Elm Street\n",
              "21171                              The Heat\n",
              "1848                       Chariots of Fire\n",
              "Name: title, dtype: object"
            ]
          },
          "metadata": {},
          "execution_count": 79
        }
      ]
    },
    {
      "cell_type": "code",
      "metadata": {
        "id": "1591e444"
      },
      "source": [
        ""
      ],
      "id": "1591e444",
      "execution_count": null,
      "outputs": []
    }
  ]
}